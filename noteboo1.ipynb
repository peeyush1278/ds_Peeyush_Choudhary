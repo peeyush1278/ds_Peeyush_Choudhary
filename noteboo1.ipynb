{
 "cells": [
  {
   "cell_type": "code",
   "execution_count": 3,
   "id": "2f65d3b8",
   "metadata": {},
   "outputs": [
    {
     "name": "stdout",
     "output_type": "stream",
     "text": [
      "Data successfully merged into 'merged_data.csv' using pandas.\n"
     ]
    }
   ],
   "source": [
    "import pandas as pd\n",
    "\n",
    "greed_file_name = \"Greed_index.csv\"\n",
    "historical_file_name = \"historical_data.csv\"\n",
    "merged_file_name = \"merged_data.csv\"\n",
    "\n",
    "greed_df = pd.read_csv('csv_files\\Greed_index.csv')\n",
    "historical_df = pd.read_csv('csv_files\\historical_data.csv')\n",
    "\n",
    "greed_df = greed_df.rename(columns={'date': 'formatted_date'})\n",
    "greed_df = greed_df[['formatted_date', 'value', 'classification']]\n",
    "\n",
    "historical_df['formatted_date'] = historical_df['Timestamp IST'].str.split(' ').str[0]\n",
    "historical_df['formatted_date'] = pd.to_datetime(historical_df['formatted_date'], format='%d-%m-%Y').dt.strftime('%Y-%m-%d')\n",
    "\n",
    "merged_df = pd.merge(historical_df, greed_df, on='formatted_date', how='left')\n",
    "\n",
    "merged_df = merged_df.drop(columns=['formatted_date'])\n",
    "\n",
    "print(f\"Data successfully merged into '{merged_file_name}' using pandas.\")\n"
   ]
  },
  {
   "cell_type": "code",
   "execution_count": 4,
   "id": "2caeb25c",
   "metadata": {},
   "outputs": [],
   "source": [
    "df= pd.read_csv('csv_files\\merged_data.csv')"
   ]
  },
  {
   "cell_type": "code",
   "execution_count": 5,
   "id": "2a36191a",
   "metadata": {},
   "outputs": [
    {
     "name": "stdout",
     "output_type": "stream",
     "text": [
      "   Execution Price  Size Tokens  Size USD Side  Start Position  Direction  \\\n",
      "0           7.9769       986.87   7872.16  BUY        0.000000        1.0   \n",
      "1           7.9800        16.00    127.68  BUY      986.524596        1.0   \n",
      "2           7.9855       144.09   1150.63  BUY     1002.518996        1.0   \n",
      "3           7.9874       142.98   1142.04  BUY     1146.558564        1.0   \n",
      "4           7.9894         8.73     69.75  BUY     1289.488521        1.0   \n",
      "\n",
      "   Closed PnL  Crossed       Fee  value  classification  \n",
      "0         0.0     True  0.345404   80.0             2.0  \n",
      "1         0.0     True  0.005600   80.0             2.0  \n",
      "2         0.0     True  0.050431   80.0             2.0  \n",
      "3         0.0     True  0.050043   80.0             2.0  \n",
      "4         0.0     True  0.003055   80.0             2.0  \n"
     ]
    }
   ],
   "source": [
    "df.drop(columns=['Account','Coin','Timestamp IST','Transaction Hash','Order ID','Trade ID','Timestamp'], inplace=True, axis=1)\n",
    "Direction_mapping = {\n",
    "    'Buy': 1,\n",
    "    'Sell': -1\n",
    "}\n",
    "df['Direction'] = df['Direction'].map(Direction_mapping)\n",
    "df['Closed PnL'] = df['Closed PnL'].astype(float)\n",
    "df.head()\n",
    "classification_mapping = {\n",
    "    'Extreme Fear': -2,\n",
    "    'Fear': -1,\n",
    "    'Neutral': 0,\n",
    "    'Greed': 1,\n",
    "    'Extreme Greed': 2\n",
    "}\n",
    "\n",
    "# Now, use the .map() method to apply this mapping to the 'classification' column.\n",
    "df['classification'] = df['classification'].map(classification_mapping)\n",
    "\n",
    "# The new 'classification_numeric' column will contain the numerical values.\n",
    "print(df.head())"
   ]
  },
  {
   "cell_type": "code",
   "execution_count": null,
   "id": "4eac6713",
   "metadata": {},
   "outputs": [
    {
     "data": {
      "text/html": [
       "<div>\n",
       "<style scoped>\n",
       "    .dataframe tbody tr th:only-of-type {\n",
       "        vertical-align: middle;\n",
       "    }\n",
       "\n",
       "    .dataframe tbody tr th {\n",
       "        vertical-align: top;\n",
       "    }\n",
       "\n",
       "    .dataframe thead th {\n",
       "        text-align: right;\n",
       "    }\n",
       "</style>\n",
       "<table border=\"1\" class=\"dataframe\">\n",
       "  <thead>\n",
       "    <tr style=\"text-align: right;\">\n",
       "      <th></th>\n",
       "      <th>Execution Price</th>\n",
       "      <th>Size Tokens</th>\n",
       "      <th>Size USD</th>\n",
       "      <th>Start Position</th>\n",
       "      <th>Direction</th>\n",
       "      <th>Closed PnL</th>\n",
       "      <th>Fee</th>\n",
       "      <th>value</th>\n",
       "      <th>classification</th>\n",
       "    </tr>\n",
       "  </thead>\n",
       "  <tbody>\n",
       "    <tr>\n",
       "      <th>0</th>\n",
       "      <td>7.9769</td>\n",
       "      <td>986.87</td>\n",
       "      <td>7872.16</td>\n",
       "      <td>0.000000</td>\n",
       "      <td>1.0</td>\n",
       "      <td>0.0</td>\n",
       "      <td>0.345404</td>\n",
       "      <td>80.0</td>\n",
       "      <td>2.0</td>\n",
       "    </tr>\n",
       "    <tr>\n",
       "      <th>1</th>\n",
       "      <td>7.9800</td>\n",
       "      <td>16.00</td>\n",
       "      <td>127.68</td>\n",
       "      <td>986.524596</td>\n",
       "      <td>1.0</td>\n",
       "      <td>0.0</td>\n",
       "      <td>0.005600</td>\n",
       "      <td>80.0</td>\n",
       "      <td>2.0</td>\n",
       "    </tr>\n",
       "    <tr>\n",
       "      <th>2</th>\n",
       "      <td>7.9855</td>\n",
       "      <td>144.09</td>\n",
       "      <td>1150.63</td>\n",
       "      <td>1002.518996</td>\n",
       "      <td>1.0</td>\n",
       "      <td>0.0</td>\n",
       "      <td>0.050431</td>\n",
       "      <td>80.0</td>\n",
       "      <td>2.0</td>\n",
       "    </tr>\n",
       "    <tr>\n",
       "      <th>3</th>\n",
       "      <td>7.9874</td>\n",
       "      <td>142.98</td>\n",
       "      <td>1142.04</td>\n",
       "      <td>1146.558564</td>\n",
       "      <td>1.0</td>\n",
       "      <td>0.0</td>\n",
       "      <td>0.050043</td>\n",
       "      <td>80.0</td>\n",
       "      <td>2.0</td>\n",
       "    </tr>\n",
       "    <tr>\n",
       "      <th>4</th>\n",
       "      <td>7.9894</td>\n",
       "      <td>8.73</td>\n",
       "      <td>69.75</td>\n",
       "      <td>1289.488521</td>\n",
       "      <td>1.0</td>\n",
       "      <td>0.0</td>\n",
       "      <td>0.003055</td>\n",
       "      <td>80.0</td>\n",
       "      <td>2.0</td>\n",
       "    </tr>\n",
       "  </tbody>\n",
       "</table>\n",
       "</div>"
      ],
      "text/plain": [
       "   Execution Price  Size Tokens  Size USD  Start Position  Direction  \\\n",
       "0           7.9769       986.87   7872.16        0.000000        1.0   \n",
       "1           7.9800        16.00    127.68      986.524596        1.0   \n",
       "2           7.9855       144.09   1150.63     1002.518996        1.0   \n",
       "3           7.9874       142.98   1142.04     1146.558564        1.0   \n",
       "4           7.9894         8.73     69.75     1289.488521        1.0   \n",
       "\n",
       "   Closed PnL       Fee  value  classification  \n",
       "0         0.0  0.345404   80.0             2.0  \n",
       "1         0.0  0.005600   80.0             2.0  \n",
       "2         0.0  0.050431   80.0             2.0  \n",
       "3         0.0  0.050043   80.0             2.0  \n",
       "4         0.0  0.003055   80.0             2.0  "
      ]
     },
     "execution_count": 8,
     "metadata": {},
     "output_type": "execute_result"
    }
   ],
   "source": [
    "df.drop(columns=['Side','Crossed'], inplace=True, axis=1)\n",
    "df.head()"
   ]
  },
  {
   "cell_type": "code",
   "execution_count": null,
   "id": "fcc9f4bf",
   "metadata": {},
   "outputs": [],
   "source": []
  }
 ],
 "metadata": {
  "kernelspec": {
   "display_name": "Python 3",
   "language": "python",
   "name": "python3"
  },
  "language_info": {
   "codemirror_mode": {
    "name": "ipython",
    "version": 3
   },
   "file_extension": ".py",
   "mimetype": "text/x-python",
   "name": "python",
   "nbconvert_exporter": "python",
   "pygments_lexer": "ipython3",
   "version": "3.9.13"
  }
 },
 "nbformat": 4,
 "nbformat_minor": 5
}
